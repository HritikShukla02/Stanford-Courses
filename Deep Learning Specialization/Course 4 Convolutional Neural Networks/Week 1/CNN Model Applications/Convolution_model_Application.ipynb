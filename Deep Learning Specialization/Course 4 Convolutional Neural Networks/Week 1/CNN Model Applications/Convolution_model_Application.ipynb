{
 "cells": [
  {
   "cell_type": "markdown",
   "metadata": {},
   "source": [
    "# Convolutional Neural Networks: Application\n",
    "\n",
    "Welcome to Course 4's second assignment! In this notebook, you will:\n",
    "\n",
    "- Create a mood classifer using the TF Keras Sequential API\n",
    "- Build a ConvNet to identify sign language digits using the TF Keras Functional API\n",
    "\n",
    "**After this assignment you will be able to:**\n",
    "\n",
    "- Build and train a ConvNet in TensorFlow for a __binary__ classification problem\n",
    "- Build and train a ConvNet in TensorFlow for a __multiclass__ classification problem\n",
    "- Explain different use cases for the Sequential and Functional APIs\n",
    "\n",
    "To complete this assignment, you should already be familiar with TensorFlow. If you are not, please refer back to the **TensorFlow Tutorial** of the third week of Course 2 (\"**Improving deep neural networks**\").\n",
    "\n",
    "## Important Note on Submission to the AutoGrader\n",
    "\n",
    "Before submitting your assignment to the AutoGrader, please make sure you are not doing the following:\n",
    "\n",
    "1. You have not added any _extra_ `print` statement(s) in the assignment.\n",
    "2. You have not added any _extra_ code cell(s) in the assignment.\n",
    "3. You have not changed any of the function parameters.\n",
    "4. You are not using any global variables inside your graded exercises. Unless specifically instructed to do so, please refrain from it and use the local variables instead.\n",
    "5. You are not changing the assignment code where it is not required, like creating _extra_ variables.\n",
    "\n",
    "If you do any of the following, you will get something like, `Grader Error: Grader feedback not found` (or similarly unexpected) error upon submitting your assignment. Before asking for help/debugging the errors in your assignment, check for these first. If this is the case, and you don't remember the changes you have made, you can get a fresh copy of the assignment by following these [instructions](https://www.coursera.org/learn/convolutional-neural-networks/supplement/DS4yP/h-ow-to-refresh-your-workspace)."
   ]
  },
  {
   "cell_type": "markdown",
   "metadata": {},
   "source": [
    "## Table of Contents\n",
    "\n",
    "- [1 - Packages](#1)\n",
    "    - [1.1 - Load the Data and Split the Data into Train/Test Sets](#1-1)\n",
    "- [2 - Layers in TF Keras](#2)\n",
    "- [3 - The Sequential API](#3)\n",
    "    - [3.1 - Create the Sequential Model](#3-1)\n",
    "        - [Exercise 1 - happyModel](#ex-1)\n",
    "    - [3.2 - Train and Evaluate the Model](#3-2)\n",
    "- [4 - The Functional API](#4)\n",
    "    - [4.1 - Load the SIGNS Dataset](#4-1)\n",
    "    - [4.2 - Split the Data into Train/Test Sets](#4-2)\n",
    "    - [4.3 - Forward Propagation](#4-3)\n",
    "        - [Exercise 2 - convolutional_model](#ex-2)\n",
    "    - [4.4 - Train the Model](#4-4)\n",
    "- [5 - History Object](#5)\n",
    "- [6 - Bibliography](#6)"
   ]
  },
  {
   "cell_type": "markdown",
   "metadata": {},
   "source": [
    "<a name='1'></a>\n",
    "## 1 - Packages\n",
    "\n",
    "As usual, begin by loading in the packages."
   ]
  },
  {
   "cell_type": "code",
   "execution_count": 20,
   "metadata": {
    "deletable": false,
    "editable": false
   },
   "outputs": [],
   "source": [
    "### v1.1"
   ]
  },
  {
   "cell_type": "code",
   "execution_count": 21,
   "metadata": {},
   "outputs": [],
   "source": [
    "import math\n",
    "import numpy as np\n",
    "import h5py\n",
    "import matplotlib.pyplot as plt\n",
    "from matplotlib.pyplot import imread\n",
    "import scipy\n",
    "from PIL import Image\n",
    "import pandas as pd\n",
    "import tensorflow as tf\n",
    "import tensorflow.keras.layers as tfl\n",
    "from tensorflow.python.framework import ops\n",
    "from cnn_utils import *\n",
    "from test_utils import summary, comparator\n",
    "\n",
    "%matplotlib inline\n",
    "np.random.seed(1)"
   ]
  },
  {
   "cell_type": "markdown",
   "metadata": {},
   "source": [
    "<a name='1-1'></a>\n",
    "### 1.1 - Load the Data and Split the Data into Train/Test Sets\n",
    "\n",
    "You'll be using the Happy House dataset for this part of the assignment, which contains images of peoples' faces. Your task will be to build a ConvNet that determines whether the people in the images are smiling or not -- because they only get to enter the house if they're smiling!  "
   ]
  },
  {
   "cell_type": "code",
   "execution_count": 22,
   "metadata": {},
   "outputs": [
    {
     "name": "stdout",
     "output_type": "stream",
     "text": [
      "number of training examples = 600\n",
      "number of test examples = 150\n",
      "X_train shape: (600, 64, 64, 3)\n",
      "Y_train shape: (600, 1)\n",
      "X_test shape: (150, 64, 64, 3)\n",
      "Y_test shape: (150, 1)\n"
     ]
    }
   ],
   "source": [
    "X_train_orig, Y_train_orig, X_test_orig, Y_test_orig, classes = load_happy_dataset()\n",
    "\n",
    "# Normalize image vectors\n",
    "X_train = X_train_orig/255.\n",
    "X_test = X_test_orig/255.\n",
    "\n",
    "# Reshape\n",
    "Y_train = Y_train_orig.T\n",
    "Y_test = Y_test_orig.T\n",
    "\n",
    "print (\"number of training examples = \" + str(X_train.shape[0]))\n",
    "print (\"number of test examples = \" + str(X_test.shape[0]))\n",
    "print (\"X_train shape: \" + str(X_train.shape))\n",
    "print (\"Y_train shape: \" + str(Y_train.shape))\n",
    "print (\"X_test shape: \" + str(X_test.shape))\n",
    "print (\"Y_test shape: \" + str(Y_test.shape))"
   ]
  },
  {
   "cell_type": "markdown",
   "metadata": {},
   "source": [
    "You can display the images contained in the dataset. Images are **64x64** pixels in RGB format (3 channels)."
   ]
  },
  {
   "cell_type": "code",
   "execution_count": 23,
   "metadata": {},
   "outputs": [
    {
     "data": {
      "image/png": "[encoded data removed]",
      "text/plain": [
       "<Figure size 432x288 with 1 Axes>"
      ]
     },
     "metadata": {
      "needs_background": "light"
     },
     "output_type": "display_data"
    }
   ],
   "source": [
    "index = 124\n",
    "plt.imshow(X_train_orig[index]) #display sample training image\n",
    "plt.show()"
   ]
  },
  {
   "cell_type": "markdown",
   "metadata": {},
   "source": [
    "<a name='2'></a>\n",
    "## 2 - Layers in TF Keras \n",
    "\n",
    "In the previous assignment, you created layers manually in numpy. In TF Keras, you don't have to write code directly to create layers. Rather, TF Keras has pre-defined layers you can use. \n",
    "\n",
    "When you create a layer in TF Keras, you are creating a function that takes some input and transforms it into an output you can reuse later. Nice and easy! "
   ]
  },
  {
   "cell_type": "markdown",
   "metadata": {},
   "source": [
    "<a name='3'></a>\n",
    "## 3 - The Sequential API\n",
    "\n",
    "In the previous assignment, you built helper functions using `numpy` to understand the mechanics behind convolutional neural networks. Most practical applications of deep learning today are built using programming frameworks, which have many built-in functions you can simply call. Keras is a high-level abstraction built on top of TensorFlow, which allows for even more simplified and optimized model creation and training. \n",
    "\n",
    "For the first part of this assignment, you'll create a model using TF Keras' Sequential API, which allows you to build layer by layer, and is ideal for building models where each layer has **exactly one** input tensor and **one** output tensor. \n",
    "\n",
    "As you'll see, using the Sequential API is simple and straightforward, but is only appropriate for simpler, more straightforward tasks. Later in this notebook you'll spend some time building with a more flexible, powerful alternative: the Functional API. \n",
    " "
   ]
  },
  {
   "cell_type": "markdown",
   "metadata": {},
   "source": [
    "<a name='3-1'></a>\n",
    "### 3.1 - Create the Sequential Model\n",
    "\n",
    "As mentioned earlier, the TensorFlow Keras Sequential API can be used to build simple models with layer operations that proceed in a sequential order. \n",
    "\n",
    "You can also add layers incrementally to a Sequential model with the `.add()` method, or remove them using the `.pop()` method, much like you would in a regular Python list.\n",
    "\n",
    "Actually, you can think of a Sequential model as behaving like a list of layers. Like Python lists, Sequential layers are ordered, and the order in which they are specified matters.  If your model is non-linear or contains layers with multiple inputs or outputs, a Sequential model wouldn't be the right choice!\n",
    "\n",
    "For any layer construction in Keras, you'll need to specify the input shape in advance. This is because in Keras, the shape of the weights is based on the shape of the inputs. The weights are only created when the model first sees some input data. Sequential models can be created by passing a list of layers to the Sequential constructor, like you will do in the next assignment.\n",
    "\n",
    "<a name='ex-1'></a>\n",
    "### Exercise 1 - happyModel\n",
    "\n",
    "Implement the `happyModel` function below to build the following model: `ZEROPAD2D -> CONV2D -> BATCHNORM -> RELU -> MAXPOOL -> FLATTEN -> DENSE`. Take help from [tf.keras.layers](https://www.tensorflow.org/api_docs/python/tf/keras/layers) \n",
    "\n",
    "Also, plug in the following parameters for all the steps:\n",
    "\n",
    " - [ZeroPadding2D](https://www.tensorflow.org/api_docs/python/tf/keras/layers/ZeroPadding2D): padding 3, input shape 64 x 64 x 3\n",
    " - [Conv2D](https://www.tensorflow.org/api_docs/python/tf/keras/layers/Conv2D): Use 32 7x7 filters, stride 1\n",
    " - [BatchNormalization](https://www.tensorflow.org/api_docs/python/tf/keras/layers/BatchNormalization): for axis 3\n",
    " - [ReLU](https://www.tensorflow.org/api_docs/python/tf/keras/layers/ReLU)\n",
    " - [MaxPool2D](https://www.tensorflow.org/api_docs/python/tf/keras/layers/MaxPool2D): Using default parameters\n",
    " - [Flatten](https://www.tensorflow.org/api_docs/python/tf/keras/layers/Flatten) the previous output.\n",
    " - Fully-connected ([Dense](https://www.tensorflow.org/api_docs/python/tf/keras/layers/Dense)) layer: Apply a fully connected layer with 1 neuron and a sigmoid activation. \n",
    " \n",
    " \n",
    " **Hint:**\n",
    " \n",
    " Use **tfl** as shorthand for **tensorflow.keras.layers**"
   ]
  },
  {
   "cell_type": "code",
   "execution_count": 33,
   "metadata": {
    "deletable": false,
    "nbgrader": {
     "cell_type": "code",
     "checksum": "95d28b191f257bdd5b70c7b8952559d5",
     "grade": false,
     "grade_id": "cell-0e56d3fc28b69aec",
     "locked": false,
     "schema_version": 3,
     "solution": true,
     "task": false
    }
   },
   "outputs": [],
   "source": [
    "# GRADED FUNCTION: happyModel\n",
    "\n",
    "def happyModel():\n",
    "    \"\"\"\n",
    "    Implements the forward propagation for the binary classification model:\n",
    "    ZEROPAD2D -> CONV2D -> BATCHNORM -> RELU -> MAXPOOL -> FLATTEN -> DENSE\n",
    "    \n",
    "    Note that for simplicity and grading purposes, you'll hard-code all the values\n",
    "    such as the stride and kernel (filter) sizes. \n",
    "    Normally, functions should take these values as function parameters.\n",
    "    \n",
    "    Arguments:\n",
    "    None\n",
    "\n",
    "    Returns:\n",
    "    model -- TF Keras model (object containing the information for the entire training process) \n",
    "    \"\"\"\n",
    "    model = tf.keras.Sequential([\n",
    "            ## ZeroPadding2D with padding 3, input shape of 64 x 64 x 3\n",
    "        \n",
    "            ## Conv2D with 32 7x7 filters and stride of 1\n",
    "\n",
    "            ## BatchNormalization for axis 3\n",
    "            \n",
    "            ## ReLU\n",
    "            \n",
    "            ## Max Pooling 2D with default parameters\n",
    "            \n",
    "            ## Flatten layer\n",
    "            \n",
    "            ## Dense layer with 1 unit for output & 'sigmoid' activation\n",
    "            \n",
    "            # YOUR CODE STARTS HERE\n",
    "            tf.keras.Input(shape=(64,64,3)),\n",
    "            tfl.ZeroPadding2D(padding=(3,3), data_format='channels_last'),\n",
    "            tfl.Conv2D(32, kernel_size=(7,7), strides=(1,1)),\n",
    "            tfl.BatchNormalization(axis=3),\n",
    "            tfl.ReLU(),\n",
    "            tfl.MaxPool2D(),\n",
    "            tfl.Flatten(),\n",
    "            tfl.Dense(units=1, activation='sigmoid')\n",
    "            # YOUR CODE ENDS HERE\n",
    "        ])\n",
    "    \n",
    "    return model"
   ]
  },
  {
   "cell_type": "code",
   "execution_count": 34,
   "metadata": {
    "deletable": false,
    "editable": false,
    "nbgrader": {
     "cell_type": "code",
     "checksum": "8d3575c950e2e78149be2d05d671c80d",
     "grade": true,
     "grade_id": "cell-e3e1046e5c33d775",
     "locked": true,
     "points": 10,
     "schema_version": 3,
     "solution": false,
     "task": false
    }
   },
   "outputs": [
    {
     "name": "stdout",
     "output_type": "stream",
     "text": [
      "['ZeroPadding2D', (None, 70, 70, 3), 0, ((3, 3), (3, 3))]\n",
      "['Conv2D', (None, 64, 64, 32), 4736, 'valid', 'linear', 'GlorotUniform']\n",
      "['BatchNormalization', (None, 64, 64, 32), 128]\n",
      "['ReLU', (None, 64, 64, 32), 0]\n",
      "['MaxPooling2D', (None, 32, 32, 32), 0, (2, 2), (2, 2), 'valid']\n",
      "['Flatten', (None, 32768), 0]\n",
      "['Dense', (None, 1), 32769, 'sigmoid']\n",
      "\u001b[32mAll tests passed!\u001b[0m\n"
     ]
    }
   ],
   "source": [
    "happy_model = happyModel()\n",
    "# Print a summary for each layer\n",
    "for layer in summary(happy_model):\n",
    "    print(layer)\n",
    "    \n",
    "output = [['ZeroPadding2D', (None, 70, 70, 3), 0, ((3, 3), (3, 3))],\n",
    "            ['Conv2D', (None, 64, 64, 32), 4736, 'valid', 'linear', 'GlorotUniform'],\n",
    "            ['BatchNormalization', (None, 64, 64, 32), 128],\n",
    "            ['ReLU', (None, 64, 64, 32), 0],\n",
    "            ['MaxPooling2D', (None, 32, 32, 32), 0, (2, 2), (2, 2), 'valid'],\n",
    "            ['Flatten', (None, 32768), 0],\n",
    "            ['Dense', (None, 1), 32769, 'sigmoid']]\n",
    "    \n",
    "comparator(summary(happy_model), output)"
   ]
  },
  {
   "cell_type": "markdown",
   "metadata": {},
   "source": [
    "#### Expected Output:\n",
    "\n",
    "```\n",
    "['ZeroPadding2D', (None, 70, 70, 3), 0, ((3, 3), (3, 3))]\n",
    "['Conv2D', (None, 64, 64, 32), 4736, 'valid', 'linear', 'GlorotUniform']\n",
    "['BatchNormalization', (None, 64, 64, 32), 128]\n",
    "['ReLU', (None, 64, 64, 32), 0]\n",
    "['MaxPooling2D', (None, 32, 32, 32), 0, (2, 2), (2, 2), 'valid']\n",
    "['Flatten', (None, 32768), 0]\n",
    "['Dense', (None, 1), 32769, 'sigmoid']\n",
    "All tests passed!\n",
    "```"
   ]
  },
  {
   "cell_type": "markdown",
   "metadata": {},
   "source": [
    "Now that your model is created, you can compile it for training with an optimizer and loss of your choice. When the string `accuracy` is specified as a metric, the type of accuracy used will be automatically converted based on the loss function used. This is one of the many optimizations built into TensorFlow that make your life easier! If you'd like to read more on how the compiler operates, check the docs [here](https://www.tensorflow.org/api_docs/python/tf/keras/Model#compile)."
   ]
  },
  {
   "cell_type": "code",
   "execution_count": 35,
   "metadata": {},
   "outputs": [],
   "source": [
    "happy_model.compile(optimizer='adam',\n",
    "                   loss='binary_crossentropy',\n",
    "                   metrics=['accuracy'])"
   ]
  },
  {
   "cell_type": "markdown",
   "metadata": {},
   "source": [
    "It's time to check your model's parameters with the `.summary()` method. This will display the types of layers you have, the shape of the outputs, and how many parameters are in each layer. "
   ]
  },
  {
   "cell_type": "code",
   "execution_count": 36,
   "metadata": {},
   "outputs": [
    {
     "name": "stdout",
     "output_type": "stream",
     "text": [
      "Model: \"sequential_6\"\n",
      "_________________________________________________________________\n",
      "Layer (type)                 Output Shape              Param #   \n",
      "=================================================================\n",
      "zero_padding2d_6 (ZeroPaddin (None, 70, 70, 3)         0         \n",
      "_________________________________________________________________\n",
      "conv2d_6 (Conv2D)            (None, 64, 64, 32)        4736      \n",
      "_________________________________________________________________\n",
      "batch_normalization_6 (Batch (None, 64, 64, 32)        128       \n",
      "_________________________________________________________________\n",
      "re_lu_6 (ReLU)               (None, 64, 64, 32)        0         \n",
      "_________________________________________________________________\n",
      "max_pooling2d_6 (MaxPooling2 (None, 32, 32, 32)        0         \n",
      "_________________________________________________________________\n",
      "flatten_6 (Flatten)          (None, 32768)             0         \n",
      "_________________________________________________________________\n",
      "dense_6 (Dense)              (None, 1)                 32769     \n",
      "=================================================================\n",
      "Total params: 37,633\n",
      "Trainable params: 37,569\n",
      "Non-trainable params: 64\n",
      "_________________________________________________________________\n"
     ]
    }
   ],
   "source": [
    "happy_model.summary()"
   ]
  },
  {
   "cell_type": "markdown",
   "metadata": {},
   "source": [
    "<a name='3-2'></a>\n",
    "### 3.2 - Train and Evaluate the Model\n",
    "\n",
    "After creating the model, compiling it with your choice of optimizer and loss function, and doing a sanity check on its contents, you are now ready to build! \n",
    "\n",
    "Simply call `.fit()` to train. That's it! No need for mini-batching, saving, or complex backpropagation computations. That's all been done for you, as you're using a TensorFlow dataset with the batches specified already. You do have the option to specify epoch number or minibatch size if you like (for example, in the case of an un-batched dataset)."
   ]
  },
  {
   "cell_type": "code",
   "execution_count": 37,
   "metadata": {},
   "outputs": [
    {
     "name": "stdout",
     "output_type": "stream",
     "text": [
      "Epoch 1/10\n",
      "38/38 [==============================] - 4s 95ms/step - loss: 0.9256 - accuracy: 0.7433\n",
      "Epoch 2/10\n",
      "38/38 [==============================] - 3s 87ms/step - loss: 0.2099 - accuracy: 0.9117\n",
      "Epoch 3/10\n",
      "38/38 [==============================] - 3s 87ms/step - loss: 0.1206 - accuracy: 0.9417\n",
      "Epoch 4/10\n",
      "38/38 [==============================] - 3s 87ms/step - loss: 0.1473 - accuracy: 0.9517\n",
      "Epoch 5/10\n",
      "38/38 [==============================] - 3s 90ms/step - loss: 0.1100 - accuracy: 0.9600\n",
      "Epoch 6/10\n",
      "38/38 [==============================] - 3s 89ms/step - loss: 0.0703 - accuracy: 0.9767\n",
      "Epoch 7/10\n",
      "38/38 [==============================] - 3s 90ms/step - loss: 0.1558 - accuracy: 0.9417\n",
      "Epoch 8/10\n",
      "38/38 [==============================] - 3s 89ms/step - loss: 0.0618 - accuracy: 0.9800\n",
      "Epoch 9/10\n",
      "38/38 [==============================] - 3s 89ms/step - loss: 0.0686 - accuracy: 0.9783\n",
      "Epoch 10/10\n",
      "38/38 [==============================] - 3s 84ms/step - loss: 0.3065 - accuracy: 0.8967\n"
     ]
    },
    {
     "data": {
      "text/plain": [
       "<tensorflow.python.keras.callbacks.History at 0x7d35973e8c50>"
      ]
     },
     "execution_count": 37,
     "metadata": {},
     "output_type": "execute_result"
    }
   ],
   "source": [
    "happy_model.fit(X_train, Y_train, epochs=10, batch_size=16)"
   ]
  },
  {
   "cell_type": "markdown",
   "metadata": {},
   "source": [
    "After that completes, just use `.evaluate()` to evaluate against your test set. This function will print the value of the loss function and the performance metrics specified during the compilation of the model. In this case, the `binary_crossentropy` and the `accuracy` respectively."
   ]
  },
  {
   "cell_type": "code",
   "execution_count": 38,
   "metadata": {},
   "outputs": [
    {
     "name": "stdout",
     "output_type": "stream",
     "text": [
      "5/5 [==============================] - 0s 36ms/step - loss: 0.4960 - accuracy: 0.8067\n"
     ]
    },
    {
     "data": {
      "text/plain": [
       "[0.49595001339912415, 0.8066666722297668]"
      ]
     },
     "execution_count": 38,
     "metadata": {},
     "output_type": "execute_result"
    }
   ],
   "source": [
    "happy_model.evaluate(X_test, Y_test)"
   ]
  },
  {
   "cell_type": "markdown",
   "metadata": {},
   "source": [
    "Easy, right? But what if you need to build a model with shared layers, branches, or multiple inputs and outputs? This is where Sequential, with its beautifully simple yet limited functionality, won't be able to help you. \n",
    "\n",
    "Next up: Enter the Functional API, your slightly more complex, highly flexible friend.  "
   ]
  },
  {
   "cell_type": "markdown",
   "metadata": {},
   "source": [
    "<a name='4'></a>\n",
    "## 4 - The Functional API"
   ]
  },
  {
   "cell_type": "markdown",
   "metadata": {},
   "source": [
    "Welcome to the second half of the assignment, where you'll use Keras' flexible [Functional API](https://www.tensorflow.org/guide/keras/functional) to build a ConvNet that can differentiate between 6 sign language digits. \n",
    "\n",
    "The Functional API can handle models with non-linear topology, shared layers, as well as layers with multiple inputs or outputs. Imagine that, where the Sequential API requires the model to move in a linear fashion through its layers, the Functional API allows much more flexibility. Where Sequential is a straight line, a Functional model is a graph, where the nodes of the layers can connect in many more ways than one. \n",
    "\n",
    "In the visual example below, the one possible direction of the movement Sequential model is shown in contrast to a skip connection, which is just one of the many ways a Functional model can be constructed. A skip connection, as you might have guessed, skips some layer in the network and feeds the output to a later layer in the network. Don't worry, you'll be spending more time with skip connections very soon! "
   ]
  },
  {
   "cell_type": "markdown",
   "metadata": {},
   "source": [
    "<img src=\"images/seq_vs_func.png\" style=\"width:350px;height:200px;\">"
   ]
  },
  {
   "cell_type": "markdown",
   "metadata": {},
   "source": [
    "<a name='4-1'></a>\n",
    "### 4.1 - Load the SIGNS Dataset\n",
    "\n",
    "As a reminder, the SIGNS dataset is a collection of 6 signs representing numbers from 0 to 5."
   ]
  },
  {
   "cell_type": "code",
   "execution_count": 39,
   "metadata": {},
   "outputs": [],
   "source": [
    "# Loading the data (signs)\n",
    "X_train_orig, Y_train_orig, X_test_orig, Y_test_orig, classes = load_signs_dataset()"
   ]
  },
  {
   "cell_type": "markdown",
   "metadata": {},
   "source": [
    "<img src=\"images/SIGNS.png\" style=\"width:800px;height:300px;\">\n",
    "\n",
    "The next cell will show you an example of a labelled image in the dataset. Feel free to change the value of `index` below and re-run to see different examples. "
   ]
  },
  {
   "cell_type": "code",
   "execution_count": 40,
   "metadata": {},
   "outputs": [
    {
     "name": "stdout",
     "output_type": "stream",
     "text": [
      "y = 4\n"
     ]
    },
    {
     "data": {
      "image/png": "[encoded data removed]",
      "text/plain": [
       "<Figure size 432x288 with 1 Axes>"
      ]
     },
     "metadata": {
      "needs_background": "light"
     },
     "output_type": "display_data"
    }
   ],
   "source": [
    "# Example of an image from the dataset\n",
    "index = 9\n",
    "plt.imshow(X_train_orig[index])\n",
    "print (\"y = \" + str(np.squeeze(Y_train_orig[:, index])))"
   ]
  },
  {
   "cell_type": "markdown",
   "metadata": {},
   "source": [
    "<a name='4-2'></a>\n",
    "### 4.2 - Split the Data into Train/Test Sets\n",
    "\n",
    "In Course 2, you built a fully-connected network for this dataset. But since this is an image dataset, it is more natural to apply a ConvNet to it.\n",
    "\n",
    "To get started, let's examine the shapes of your data. "
   ]
  },
  {
   "cell_type": "code",
   "execution_count": 41,
   "metadata": {},
   "outputs": [
    {
     "name": "stdout",
     "output_type": "stream",
     "text": [
      "number of training examples = 1080\n",
      "number of test examples = 120\n",
      "X_train shape: (1080, 64, 64, 3)\n",
      "Y_train shape: (1080, 6)\n",
      "X_test shape: (120, 64, 64, 3)\n",
      "Y_test shape: (120, 6)\n"
     ]
    }
   ],
   "source": [
    "X_train = X_train_orig/255.\n",
    "X_test = X_test_orig/255.\n",
    "Y_train = convert_to_one_hot(Y_train_orig, 6).T\n",
    "Y_test = convert_to_one_hot(Y_test_orig, 6).T\n",
    "print (\"number of training examples = \" + str(X_train.shape[0]))\n",
    "print (\"number of test examples = \" + str(X_test.shape[0]))\n",
    "print (\"X_train shape: \" + str(X_train.shape))\n",
    "print (\"Y_train shape: \" + str(Y_train.shape))\n",
    "print (\"X_test shape: \" + str(X_test.shape))\n",
    "print (\"Y_test shape: \" + str(Y_test.shape))"
   ]
  },
  {
   "cell_type": "markdown",
   "metadata": {},
   "source": [
    "<a name='4-3'></a>\n",
    "### 4.3 - Forward Propagation\n",
    "\n",
    "In TensorFlow, there are built-in functions that implement the convolution steps for you. By now, you should be familiar with how TensorFlow builds computational graphs. In the [Functional API](https://www.tensorflow.org/guide/keras/functional), you create a graph of layers. This is what allows such great flexibility.\n",
    "\n",
    "However, the following model could also be defined using the Sequential API since the information flow is on a single line. But don't deviate. What we want you to learn is to use the functional API.\n",
    "\n",
    "Begin building your graph of layers by creating an input node that functions as a callable object:\n",
    "\n",
    "- **input_img = tf.keras.Input(shape=input_shape):** \n",
    "\n",
    "Then, create a new node in the graph of layers by calling a layer on the `input_img` object: \n",
    "\n",
    "- **tf.keras.layers.Conv2D(filters= ... , kernel_size= ... , padding='same')(input_img):** Read the full documentation on [Conv2D](https://www.tensorflow.org/api_docs/python/tf/keras/layers/Conv2D).\n",
    "\n",
    "- **tf.keras.layers.MaxPool2D(pool_size=(f, f), strides=(s, s), padding='same'):** `MaxPool2D()` downsamples your input using a window of size (f, f) and strides of size (s, s) to carry out max pooling over each window.  For max pooling, you usually operate on a single example at a time and a single channel at a time. Read the full documentation on [MaxPool2D](https://www.tensorflow.org/api_docs/python/tf/keras/layers/MaxPool2D).\n",
    "\n",
    "- **tf.keras.layers.ReLU():** computes the elementwise ReLU of Z (which can be any shape). You can read the full documentation on [ReLU](https://www.tensorflow.org/api_docs/python/tf/keras/layers/ReLU).\n",
    "\n",
    "- **tf.keras.layers.Flatten()**: given a tensor \"P\", this function takes each training (or test) example in the batch and flattens it into a 1D vector.  \n",
    "\n",
    "    * If a tensor P has the shape (batch_size,h,w,c), it returns a flattened tensor with shape (batch_size, k), where $k=h \\times w \\times c$.  \"k\" equals the product of all the dimension sizes other than the first dimension.\n",
    "    \n",
    "    * For example, given a tensor with dimensions [100, 2, 3, 4], it flattens the tensor to be of shape [100, 24], where 24 = 2 * 3 * 4.  You can read the full documentation on [Flatten](https://www.tensorflow.org/api_docs/python/tf/keras/layers/Flatten).\n",
    "\n",
    "- **tf.keras.layers.Dense(units= ... , activation='softmax')(F):** given the flattened input F, it returns the output computed using a fully connected layer. You can read the full documentation on [Dense](https://www.tensorflow.org/api_docs/python/tf/keras/layers/Dense).\n",
    "\n",
    "In the last function above (`tf.keras.layers.Dense()`), the fully connected layer automatically initializes weights in the graph and keeps on training them as you train the model. Hence, you did not need to initialize those weights when initializing the parameters.\n",
    "\n",
    "Lastly, before creating the model, you'll need to define the output using the last of the function's compositions (in this example, a Dense layer): \n",
    "\n",
    "- **outputs = tf.keras.layers.Dense(units=6, activation='softmax')(F)**\n",
    "\n",
    "\n",
    "#### Window, kernel, filter, pool\n",
    "\n",
    "The words \"kernel\" and \"filter\" are used to refer to the same thing. The word \"filter\" accounts for the amount of \"kernels\" that will be used in a single convolution layer. \"Pool\" is the name of the operation that takes the max or average value of the kernels. \n",
    "\n",
    "This is why the parameter `pool_size` refers to `kernel_size`, and you use `(f,f)` to refer to the filter size. \n",
    "\n",
    "Pool size and kernel size refer to the same thing in different objects - They refer to the shape of the window where the operation takes place. "
   ]
  },
  {
   "cell_type": "markdown",
   "metadata": {},
   "source": [
    "<a name='ex-2'></a>\n",
    "### Exercise 2 - convolutional_model\n",
    "\n",
    "Implement the `convolutional_model` function below to build the following model: `CONV2D -> RELU -> MAXPOOL -> CONV2D -> RELU -> MAXPOOL -> FLATTEN -> DENSE`. Use the functions above! \n",
    "\n",
    "Also, plug in the following parameters for all the steps:\n",
    "\n",
    " - [Conv2D](https://www.tensorflow.org/api_docs/python/tf/keras/layers/Conv2D): Use 8 4 by 4 filters, stride 1, padding is \"SAME\"\n",
    " - [ReLU](https://www.tensorflow.org/api_docs/python/tf/keras/layers/ReLU)\n",
    " - [MaxPool2D](https://www.tensorflow.org/api_docs/python/tf/keras/layers/MaxPool2D): Use an 8 by 8 filter size and an 8 by 8 stride, padding is \"SAME\"\n",
    " - **Conv2D**: Use 16 2 by 2 filters, stride 1, padding is \"SAME\"\n",
    " - **ReLU**\n",
    " - **MaxPool2D**: Use a 4 by 4 filter size and a 4 by 4 stride, padding is \"SAME\"\n",
    " - [Flatten](https://www.tensorflow.org/api_docs/python/tf/keras/layers/Flatten) the previous output.\n",
    " - Fully-connected ([Dense](https://www.tensorflow.org/api_docs/python/tf/keras/layers/Dense)) layer: Apply a fully connected layer with 6 neurons and a softmax activation. "
   ]
  },
  {
   "cell_type": "code",
   "execution_count": 46,
   "metadata": {
    "deletable": false,
    "nbgrader": {
     "cell_type": "code",
     "checksum": "f58643806aa8380c96225fc8b4c5e7aa",
     "grade": false,
     "grade_id": "cell-dac51744a9e03f51",
     "locked": false,
     "schema_version": 3,
     "solution": true,
     "task": false
    }
   },
   "outputs": [],
   "source": [
    "# GRADED FUNCTION: convolutional_model\n",
    "\n",
    "def convolutional_model(input_shape):\n",
    "    \"\"\"\n",
    "    Implements the forward propagation for the model:\n",
    "    CONV2D -> RELU -> MAXPOOL -> CONV2D -> RELU -> MAXPOOL -> FLATTEN -> DENSE\n",
    "    \n",
    "    Note that for simplicity and grading purposes, you'll hard-code some values\n",
    "    such as the stride and kernel (filter) sizes. \n",
    "    Normally, functions should take these values as function parameters.\n",
    "    \n",
    "    Arguments:\n",
    "    input_img -- input dataset, of shape (input_shape)\n",
    "\n",
    "    Returns:\n",
    "    model -- TF Keras model (object containing the information for the entire training process) \n",
    "    \"\"\"\n",
    "\n",
    "    input_img = tf.keras.Input(shape=input_shape)\n",
    "    ## CONV2D: 8 filters 4x4, stride of 1, padding 'SAME'\n",
    "    # Z1 = None\n",
    "    ## RELU\n",
    "    # A1 = None\n",
    "    ## MAXPOOL: window 8x8, stride 8, padding 'SAME'\n",
    "    # P1 = None\n",
    "    ## CONV2D: 16 filters 2x2, stride 1, padding 'SAME'\n",
    "    # Z2 = None\n",
    "    ## RELU\n",
    "    # A2 = None\n",
    "    ## MAXPOOL: window 4x4, stride 4, padding 'SAME'\n",
    "    # P2 = None\n",
    "    ## FLATTEN\n",
    "    # F = None\n",
    "    ## Dense layer\n",
    "    ## 6 neurons in output layer. Hint: one of the arguments should be \"activation='softmax'\" \n",
    "    # outputs = None\n",
    "    # YOUR CODE STARTS HERE\n",
    "    Z1 = tfl.Conv2D(filters=8, kernel_size=(4,4), strides=(1,1), padding='SAME')(input_img)\n",
    "    A1 = tfl.ReLU()(Z1)\n",
    "    P1 = tfl.MaxPool2D(pool_size=(8,8), strides=(8,8), padding='SAME')(A1)\n",
    "    Z2 = tfl.Conv2D(filters=16, kernel_size=(2,2), strides=(1,1), padding='SAME')(P1)\n",
    "    A2 = tfl.ReLU()(Z2)\n",
    "    P2 = tfl.MaxPool2D(pool_size=(4,4), strides=(4,4), padding='SAME')(A2)\n",
    "    F = tfl.Flatten()(P2)\n",
    "    outputs = tfl.Dense(units=6, activation='softmax')(F)\n",
    "    # YOUR CODE ENDS HERE\n",
    "    model = tf.keras.Model(inputs=input_img, outputs=outputs)\n",
    "    return model"
   ]
  },
  {
   "cell_type": "code",
   "execution_count": 47,
   "metadata": {
    "deletable": false,
    "editable": false,
    "nbgrader": {
     "cell_type": "code",
     "checksum": "483d626949930a0b0ef20997e7c6ba72",
     "grade": true,
     "grade_id": "cell-45d22e92042174c9",
     "locked": true,
     "points": 10,
     "schema_version": 3,
     "solution": false,
     "task": false
    }
   },
   "outputs": [
    {
     "name": "stdout",
     "output_type": "stream",
     "text": [
      "Model: \"functional_1\"\n",
      "_________________________________________________________________\n",
      "Layer (type)                 Output Shape              Param #   \n",
      "=================================================================\n",
      "input_4 (InputLayer)         [(None, 64, 64, 3)]       0         \n",
      "_________________________________________________________________\n",
      "conv2d_8 (Conv2D)            (None, 64, 64, 8)         392       \n",
      "_________________________________________________________________\n",
      "re_lu_8 (ReLU)               (None, 64, 64, 8)         0         \n",
      "_________________________________________________________________\n",
      "max_pooling2d_7 (MaxPooling2 (None, 8, 8, 8)           0         \n",
      "_________________________________________________________________\n",
      "conv2d_9 (Conv2D)            (None, 8, 8, 16)          528       \n",
      "_________________________________________________________________\n",
      "re_lu_9 (ReLU)               (None, 8, 8, 16)          0         \n",
      "_________________________________________________________________\n",
      "max_pooling2d_8 (MaxPooling2 (None, 2, 2, 16)          0         \n",
      "_________________________________________________________________\n",
      "flatten_7 (Flatten)          (None, 64)                0         \n",
      "_________________________________________________________________\n",
      "dense_7 (Dense)              (None, 6)                 390       \n",
      "=================================================================\n",
      "Total params: 1,310\n",
      "Trainable params: 1,310\n",
      "Non-trainable params: 0\n",
      "_________________________________________________________________\n",
      "\u001b[32mAll tests passed!\u001b[0m\n"
     ]
    }
   ],
   "source": [
    "conv_model = convolutional_model((64, 64, 3))\n",
    "conv_model.compile(optimizer='adam',\n",
    "                  loss='categorical_crossentropy',\n",
    "                  metrics=['accuracy'])\n",
    "conv_model.summary()\n",
    "    \n",
    "output = [['InputLayer', [(None, 64, 64, 3)], 0],\n",
    "        ['Conv2D', (None, 64, 64, 8), 392, 'same', 'linear', 'GlorotUniform'],\n",
    "        ['ReLU', (None, 64, 64, 8), 0],\n",
    "        ['MaxPooling2D', (None, 8, 8, 8), 0, (8, 8), (8, 8), 'same'],\n",
    "        ['Conv2D', (None, 8, 8, 16), 528, 'same', 'linear', 'GlorotUniform'],\n",
    "        ['ReLU', (None, 8, 8, 16), 0],\n",
    "        ['MaxPooling2D', (None, 2, 2, 16), 0, (4, 4), (4, 4), 'same'],\n",
    "        ['Flatten', (None, 64), 0],\n",
    "        ['Dense', (None, 6), 390, 'softmax']]\n",
    "    \n",
    "comparator(summary(conv_model), output)"
   ]
  },
  {
   "cell_type": "markdown",
   "metadata": {},
   "source": [
    "Both the Sequential and Functional APIs return a TF Keras model object. The only difference is how inputs are handled inside the object model! "
   ]
  },
  {
   "cell_type": "markdown",
   "metadata": {},
   "source": [
    "<a name='4-4'></a>\n",
    "### 4.4 - Train the Model"
   ]
  },
  {
   "cell_type": "code",
   "execution_count": 48,
   "metadata": {},
   "outputs": [
    {
     "name": "stdout",
     "output_type": "stream",
     "text": [
      "Epoch 1/100\n",
      "17/17 [==============================] - 2s 100ms/step - loss: 1.8076 - accuracy: 0.1630 - val_loss: 1.7860 - val_accuracy: 0.1667\n",
      "Epoch 2/100\n",
      "17/17 [==============================] - 2s 100ms/step - loss: 1.7882 - accuracy: 0.1880 - val_loss: 1.7803 - val_accuracy: 0.2417\n",
      "Epoch 3/100\n",
      "17/17 [==============================] - 2s 100ms/step - loss: 1.7818 - accuracy: 0.2556 - val_loss: 1.7747 - val_accuracy: 0.3000\n",
      "Epoch 4/100\n",
      "17/17 [==============================] - 2s 95ms/step - loss: 1.7781 - accuracy: 0.2815 - val_loss: 1.7701 - val_accuracy: 0.4833\n",
      "Epoch 5/100\n",
      "17/17 [==============================] - 2s 95ms/step - loss: 1.7720 - accuracy: 0.3398 - val_loss: 1.7645 - val_accuracy: 0.4500\n",
      "Epoch 6/100\n",
      "17/17 [==============================] - 2s 94ms/step - loss: 1.7657 - accuracy: 0.3296 - val_loss: 1.7591 - val_accuracy: 0.4917\n",
      "Epoch 7/100\n",
      "17/17 [==============================] - 2s 95ms/step - loss: 1.7581 - accuracy: 0.3787 - val_loss: 1.7523 - val_accuracy: 0.4833\n",
      "Epoch 8/100\n",
      "17/17 [==============================] - 2s 100ms/step - loss: 1.7488 - accuracy: 0.3787 - val_loss: 1.7441 - val_accuracy: 0.4500\n",
      "Epoch 9/100\n",
      "17/17 [==============================] - 2s 100ms/step - loss: 1.7377 - accuracy: 0.3833 - val_loss: 1.7330 - val_accuracy: 0.4250\n",
      "Epoch 10/100\n",
      "17/17 [==============================] - 2s 96ms/step - loss: 1.7237 - accuracy: 0.3954 - val_loss: 1.7215 - val_accuracy: 0.3667\n",
      "Epoch 11/100\n",
      "17/17 [==============================] - 2s 96ms/step - loss: 1.7080 - accuracy: 0.3926 - val_loss: 1.7050 - val_accuracy: 0.4000\n",
      "Epoch 12/100\n",
      "17/17 [==============================] - 2s 100ms/step - loss: 1.6881 - accuracy: 0.4028 - val_loss: 1.6873 - val_accuracy: 0.4167\n",
      "Epoch 13/100\n",
      "17/17 [==============================] - 2s 100ms/step - loss: 1.6631 - accuracy: 0.4287 - val_loss: 1.6683 - val_accuracy: 0.3833\n",
      "Epoch 14/100\n",
      "17/17 [==============================] - 2s 100ms/step - loss: 1.6349 - accuracy: 0.4444 - val_loss: 1.6482 - val_accuracy: 0.3500\n",
      "Epoch 15/100\n",
      "17/17 [==============================] - 2s 100ms/step - loss: 1.6030 - accuracy: 0.4574 - val_loss: 1.6267 - val_accuracy: 0.3250\n",
      "Epoch 16/100\n",
      "17/17 [==============================] - 2s 100ms/step - loss: 1.5680 - accuracy: 0.4500 - val_loss: 1.5964 - val_accuracy: 0.3583\n",
      "Epoch 17/100\n",
      "17/17 [==============================] - 2s 100ms/step - loss: 1.5274 - accuracy: 0.4704 - val_loss: 1.5521 - val_accuracy: 0.4667\n",
      "Epoch 18/100\n",
      "17/17 [==============================] - 2s 100ms/step - loss: 1.4823 - accuracy: 0.5037 - val_loss: 1.5050 - val_accuracy: 0.4750\n",
      "Epoch 19/100\n",
      "17/17 [==============================] - 2s 100ms/step - loss: 1.4371 - accuracy: 0.5148 - val_loss: 1.4686 - val_accuracy: 0.4750\n",
      "Epoch 20/100\n",
      "17/17 [==============================] - 2s 100ms/step - loss: 1.3956 - accuracy: 0.5130 - val_loss: 1.4254 - val_accuracy: 0.4833\n",
      "Epoch 21/100\n",
      "17/17 [==============================] - 2s 100ms/step - loss: 1.3519 - accuracy: 0.5278 - val_loss: 1.3848 - val_accuracy: 0.4750\n",
      "Epoch 22/100\n",
      "17/17 [==============================] - 2s 101ms/step - loss: 1.3121 - accuracy: 0.5519 - val_loss: 1.3417 - val_accuracy: 0.4917\n",
      "Epoch 23/100\n",
      "17/17 [==============================] - 2s 100ms/step - loss: 1.2731 - accuracy: 0.5694 - val_loss: 1.2980 - val_accuracy: 0.5250\n",
      "Epoch 24/100\n",
      "17/17 [==============================] - 2s 100ms/step - loss: 1.2361 - accuracy: 0.5769 - val_loss: 1.2578 - val_accuracy: 0.5250\n",
      "Epoch 25/100\n",
      "17/17 [==============================] - 2s 95ms/step - loss: 1.1999 - accuracy: 0.5981 - val_loss: 1.2199 - val_accuracy: 0.5333\n",
      "Epoch 26/100\n",
      "17/17 [==============================] - 2s 100ms/step - loss: 1.1661 - accuracy: 0.6046 - val_loss: 1.1855 - val_accuracy: 0.5417\n",
      "Epoch 27/100\n",
      "17/17 [==============================] - 2s 106ms/step - loss: 1.1328 - accuracy: 0.6139 - val_loss: 1.1521 - val_accuracy: 0.5417\n",
      "Epoch 28/100\n",
      "17/17 [==============================] - 2s 100ms/step - loss: 1.1011 - accuracy: 0.6250 - val_loss: 1.1184 - val_accuracy: 0.5500\n",
      "Epoch 29/100\n",
      "17/17 [==============================] - 2s 100ms/step - loss: 1.0720 - accuracy: 0.6380 - val_loss: 1.0918 - val_accuracy: 0.5750\n",
      "Epoch 30/100\n",
      "17/17 [==============================] - 2s 96ms/step - loss: 1.0463 - accuracy: 0.6417 - val_loss: 1.0707 - val_accuracy: 0.5833\n",
      "Epoch 31/100\n",
      "17/17 [==============================] - 2s 94ms/step - loss: 1.0231 - accuracy: 0.6500 - val_loss: 1.0467 - val_accuracy: 0.5833\n",
      "Epoch 32/100\n",
      "17/17 [==============================] - 2s 100ms/step - loss: 1.0006 - accuracy: 0.6602 - val_loss: 1.0184 - val_accuracy: 0.5917\n",
      "Epoch 33/100\n",
      "17/17 [==============================] - 2s 100ms/step - loss: 0.9783 - accuracy: 0.6667 - val_loss: 0.9947 - val_accuracy: 0.6000\n",
      "Epoch 34/100\n",
      "17/17 [==============================] - 2s 95ms/step - loss: 0.9568 - accuracy: 0.6750 - val_loss: 0.9790 - val_accuracy: 0.6167\n",
      "Epoch 35/100\n",
      "17/17 [==============================] - 2s 96ms/step - loss: 0.9378 - accuracy: 0.6806 - val_loss: 0.9613 - val_accuracy: 0.6417\n",
      "Epoch 36/100\n",
      "17/17 [==============================] - 2s 100ms/step - loss: 0.9198 - accuracy: 0.6815 - val_loss: 0.9482 - val_accuracy: 0.6583\n",
      "Epoch 37/100\n",
      "17/17 [==============================] - 2s 100ms/step - loss: 0.9033 - accuracy: 0.6870 - val_loss: 0.9401 - val_accuracy: 0.6750\n",
      "Epoch 38/100\n",
      "17/17 [==============================] - 2s 100ms/step - loss: 0.8874 - accuracy: 0.6954 - val_loss: 0.9154 - val_accuracy: 0.6583\n",
      "Epoch 39/100\n",
      "17/17 [==============================] - 2s 100ms/step - loss: 0.8703 - accuracy: 0.7028 - val_loss: 0.8919 - val_accuracy: 0.6583\n",
      "Epoch 40/100\n",
      "17/17 [==============================] - 2s 100ms/step - loss: 0.8532 - accuracy: 0.7111 - val_loss: 0.8775 - val_accuracy: 0.6750\n",
      "Epoch 41/100\n",
      "17/17 [==============================] - 2s 95ms/step - loss: 0.8379 - accuracy: 0.7157 - val_loss: 0.8660 - val_accuracy: 0.6667\n",
      "Epoch 42/100\n",
      "17/17 [==============================] - 2s 100ms/step - loss: 0.8239 - accuracy: 0.7213 - val_loss: 0.8528 - val_accuracy: 0.6917\n",
      "Epoch 43/100\n",
      "17/17 [==============================] - 2s 100ms/step - loss: 0.8107 - accuracy: 0.7250 - val_loss: 0.8419 - val_accuracy: 0.6917\n",
      "Epoch 44/100\n",
      "17/17 [==============================] - 2s 101ms/step - loss: 0.7978 - accuracy: 0.7296 - val_loss: 0.8309 - val_accuracy: 0.6833\n",
      "Epoch 45/100\n",
      "17/17 [==============================] - 2s 100ms/step - loss: 0.7858 - accuracy: 0.7315 - val_loss: 0.8219 - val_accuracy: 0.6917\n",
      "Epoch 46/100\n",
      "17/17 [==============================] - 2s 100ms/step - loss: 0.7744 - accuracy: 0.7380 - val_loss: 0.8119 - val_accuracy: 0.6917\n",
      "Epoch 47/100\n",
      "17/17 [==============================] - 2s 100ms/step - loss: 0.7632 - accuracy: 0.7398 - val_loss: 0.8024 - val_accuracy: 0.6917\n",
      "Epoch 48/100\n",
      "17/17 [==============================] - 2s 100ms/step - loss: 0.7524 - accuracy: 0.7417 - val_loss: 0.7943 - val_accuracy: 0.6917\n",
      "Epoch 49/100\n",
      "17/17 [==============================] - 2s 100ms/step - loss: 0.7420 - accuracy: 0.7463 - val_loss: 0.7867 - val_accuracy: 0.6917\n",
      "Epoch 50/100\n",
      "17/17 [==============================] - 2s 105ms/step - loss: 0.7321 - accuracy: 0.7537 - val_loss: 0.7786 - val_accuracy: 0.6917\n",
      "Epoch 51/100\n",
      "17/17 [==============================] - 2s 100ms/step - loss: 0.7224 - accuracy: 0.7593 - val_loss: 0.7709 - val_accuracy: 0.6833\n",
      "Epoch 52/100\n",
      "17/17 [==============================] - 2s 100ms/step - loss: 0.7132 - accuracy: 0.7676 - val_loss: 0.7638 - val_accuracy: 0.6833\n",
      "Epoch 53/100\n",
      "17/17 [==============================] - 2s 100ms/step - loss: 0.7044 - accuracy: 0.7750 - val_loss: 0.7564 - val_accuracy: 0.6917\n",
      "Epoch 54/100\n",
      "17/17 [==============================] - 2s 100ms/step - loss: 0.6958 - accuracy: 0.7778 - val_loss: 0.7490 - val_accuracy: 0.6917\n",
      "Epoch 55/100\n",
      "17/17 [==============================] - 2s 100ms/step - loss: 0.6871 - accuracy: 0.7806 - val_loss: 0.7421 - val_accuracy: 0.6917\n",
      "Epoch 56/100\n",
      "17/17 [==============================] - 2s 100ms/step - loss: 0.6788 - accuracy: 0.7833 - val_loss: 0.7364 - val_accuracy: 0.6833\n",
      "Epoch 57/100\n",
      "17/17 [==============================] - 2s 100ms/step - loss: 0.6711 - accuracy: 0.7880 - val_loss: 0.7294 - val_accuracy: 0.7000\n",
      "Epoch 58/100\n"
     ]
    },
    {
     "name": "stdout",
     "output_type": "stream",
     "text": [
      "17/17 [==============================] - 2s 100ms/step - loss: 0.6632 - accuracy: 0.7898 - val_loss: 0.7229 - val_accuracy: 0.7000\n",
      "Epoch 59/100\n",
      "17/17 [==============================] - 2s 100ms/step - loss: 0.6557 - accuracy: 0.7935 - val_loss: 0.7163 - val_accuracy: 0.7000\n",
      "Epoch 60/100\n",
      "17/17 [==============================] - 2s 100ms/step - loss: 0.6484 - accuracy: 0.7944 - val_loss: 0.7104 - val_accuracy: 0.7000\n",
      "Epoch 61/100\n",
      "17/17 [==============================] - 2s 96ms/step - loss: 0.6412 - accuracy: 0.7972 - val_loss: 0.7043 - val_accuracy: 0.7000\n",
      "Epoch 62/100\n",
      "17/17 [==============================] - 2s 100ms/step - loss: 0.6340 - accuracy: 0.7981 - val_loss: 0.6984 - val_accuracy: 0.7000\n",
      "Epoch 63/100\n",
      "17/17 [==============================] - 2s 100ms/step - loss: 0.6267 - accuracy: 0.7991 - val_loss: 0.6921 - val_accuracy: 0.7000\n",
      "Epoch 64/100\n",
      "17/17 [==============================] - 2s 100ms/step - loss: 0.6198 - accuracy: 0.7991 - val_loss: 0.6866 - val_accuracy: 0.7000\n",
      "Epoch 65/100\n",
      "17/17 [==============================] - 2s 100ms/step - loss: 0.6130 - accuracy: 0.8028 - val_loss: 0.6804 - val_accuracy: 0.7167\n",
      "Epoch 66/100\n",
      "17/17 [==============================] - 2s 100ms/step - loss: 0.6061 - accuracy: 0.8046 - val_loss: 0.6742 - val_accuracy: 0.7167\n",
      "Epoch 67/100\n",
      "17/17 [==============================] - 2s 100ms/step - loss: 0.5997 - accuracy: 0.8046 - val_loss: 0.6690 - val_accuracy: 0.7167\n",
      "Epoch 68/100\n",
      "17/17 [==============================] - 2s 100ms/step - loss: 0.5932 - accuracy: 0.8074 - val_loss: 0.6638 - val_accuracy: 0.7250\n",
      "Epoch 69/100\n",
      "17/17 [==============================] - 2s 100ms/step - loss: 0.5868 - accuracy: 0.8111 - val_loss: 0.6578 - val_accuracy: 0.7250\n",
      "Epoch 70/100\n",
      "17/17 [==============================] - 2s 100ms/step - loss: 0.5806 - accuracy: 0.8130 - val_loss: 0.6529 - val_accuracy: 0.7333\n",
      "Epoch 71/100\n",
      "17/17 [==============================] - 2s 100ms/step - loss: 0.5744 - accuracy: 0.8167 - val_loss: 0.6479 - val_accuracy: 0.7333\n",
      "Epoch 72/100\n",
      "17/17 [==============================] - 2s 95ms/step - loss: 0.5685 - accuracy: 0.8213 - val_loss: 0.6432 - val_accuracy: 0.7333\n",
      "Epoch 73/100\n",
      "17/17 [==============================] - 2s 100ms/step - loss: 0.5625 - accuracy: 0.8241 - val_loss: 0.6391 - val_accuracy: 0.7333\n",
      "Epoch 74/100\n",
      "17/17 [==============================] - 2s 100ms/step - loss: 0.5566 - accuracy: 0.8241 - val_loss: 0.6343 - val_accuracy: 0.7333\n",
      "Epoch 75/100\n",
      "17/17 [==============================] - 2s 100ms/step - loss: 0.5505 - accuracy: 0.8231 - val_loss: 0.6292 - val_accuracy: 0.7333\n",
      "Epoch 76/100\n",
      "17/17 [==============================] - 2s 100ms/step - loss: 0.5444 - accuracy: 0.8278 - val_loss: 0.6253 - val_accuracy: 0.7333\n",
      "Epoch 77/100\n",
      "17/17 [==============================] - 2s 100ms/step - loss: 0.5388 - accuracy: 0.8278 - val_loss: 0.6202 - val_accuracy: 0.7417\n",
      "Epoch 78/100\n",
      "17/17 [==============================] - 2s 100ms/step - loss: 0.5332 - accuracy: 0.8306 - val_loss: 0.6160 - val_accuracy: 0.7500\n",
      "Epoch 79/100\n",
      "17/17 [==============================] - 2s 101ms/step - loss: 0.5278 - accuracy: 0.8333 - val_loss: 0.6123 - val_accuracy: 0.7583\n",
      "Epoch 80/100\n",
      "17/17 [==============================] - 2s 100ms/step - loss: 0.5225 - accuracy: 0.8370 - val_loss: 0.6080 - val_accuracy: 0.7583\n",
      "Epoch 81/100\n",
      "17/17 [==============================] - 2s 100ms/step - loss: 0.5175 - accuracy: 0.8370 - val_loss: 0.6031 - val_accuracy: 0.7583\n",
      "Epoch 82/100\n",
      "17/17 [==============================] - 2s 100ms/step - loss: 0.5124 - accuracy: 0.8389 - val_loss: 0.5992 - val_accuracy: 0.7583\n",
      "Epoch 83/100\n",
      "17/17 [==============================] - 2s 106ms/step - loss: 0.5074 - accuracy: 0.8407 - val_loss: 0.5949 - val_accuracy: 0.7583\n",
      "Epoch 84/100\n",
      "17/17 [==============================] - 2s 100ms/step - loss: 0.5024 - accuracy: 0.8407 - val_loss: 0.5908 - val_accuracy: 0.7667\n",
      "Epoch 85/100\n",
      "17/17 [==============================] - 2s 100ms/step - loss: 0.4974 - accuracy: 0.8444 - val_loss: 0.5871 - val_accuracy: 0.7667\n",
      "Epoch 86/100\n",
      "17/17 [==============================] - 2s 100ms/step - loss: 0.4928 - accuracy: 0.8472 - val_loss: 0.5840 - val_accuracy: 0.7667\n",
      "Epoch 87/100\n",
      "17/17 [==============================] - 2s 96ms/step - loss: 0.4881 - accuracy: 0.8491 - val_loss: 0.5804 - val_accuracy: 0.7667\n",
      "Epoch 88/100\n",
      "17/17 [==============================] - 2s 100ms/step - loss: 0.4834 - accuracy: 0.8519 - val_loss: 0.5768 - val_accuracy: 0.7667\n",
      "Epoch 89/100\n",
      "17/17 [==============================] - 2s 100ms/step - loss: 0.4789 - accuracy: 0.8519 - val_loss: 0.5729 - val_accuracy: 0.7750\n",
      "Epoch 90/100\n",
      "17/17 [==============================] - 2s 101ms/step - loss: 0.4742 - accuracy: 0.8528 - val_loss: 0.5687 - val_accuracy: 0.7750\n",
      "Epoch 91/100\n",
      "17/17 [==============================] - 2s 100ms/step - loss: 0.4696 - accuracy: 0.8519 - val_loss: 0.5650 - val_accuracy: 0.7750\n",
      "Epoch 92/100\n",
      "17/17 [==============================] - 2s 101ms/step - loss: 0.4651 - accuracy: 0.8537 - val_loss: 0.5613 - val_accuracy: 0.7833\n",
      "Epoch 93/100\n",
      "17/17 [==============================] - 2s 100ms/step - loss: 0.4609 - accuracy: 0.8565 - val_loss: 0.5581 - val_accuracy: 0.7750\n",
      "Epoch 94/100\n",
      "17/17 [==============================] - 2s 101ms/step - loss: 0.4567 - accuracy: 0.8574 - val_loss: 0.5545 - val_accuracy: 0.7750\n",
      "Epoch 95/100\n",
      "17/17 [==============================] - 2s 100ms/step - loss: 0.4524 - accuracy: 0.8593 - val_loss: 0.5504 - val_accuracy: 0.7750\n",
      "Epoch 96/100\n",
      "17/17 [==============================] - 2s 100ms/step - loss: 0.4482 - accuracy: 0.8602 - val_loss: 0.5469 - val_accuracy: 0.7833\n",
      "Epoch 97/100\n",
      "17/17 [==============================] - 2s 100ms/step - loss: 0.4442 - accuracy: 0.8630 - val_loss: 0.5438 - val_accuracy: 0.7750\n",
      "Epoch 98/100\n",
      "17/17 [==============================] - 2s 101ms/step - loss: 0.4401 - accuracy: 0.8648 - val_loss: 0.5401 - val_accuracy: 0.7833\n",
      "Epoch 99/100\n",
      "17/17 [==============================] - 2s 100ms/step - loss: 0.4361 - accuracy: 0.8676 - val_loss: 0.5370 - val_accuracy: 0.7833\n",
      "Epoch 100/100\n",
      "17/17 [==============================] - 2s 100ms/step - loss: 0.4322 - accuracy: 0.8694 - val_loss: 0.5335 - val_accuracy: 0.7833\n"
     ]
    }
   ],
   "source": [
    "train_dataset = tf.data.Dataset.from_tensor_slices((X_train, Y_train)).batch(64)\n",
    "test_dataset = tf.data.Dataset.from_tensor_slices((X_test, Y_test)).batch(64)\n",
    "history = conv_model.fit(train_dataset, epochs=100, validation_data=test_dataset)"
   ]
  },
  {
   "cell_type": "markdown",
   "metadata": {},
   "source": [
    "<a name='5'></a>\n",
    "## 5 - History Object \n",
    "\n",
    "The history object is an output of the `.fit()` operation, and provides a record of all the loss and metric values in memory. It's stored as a dictionary that you can retrieve at `history.history`: "
   ]
  },
  {
   "cell_type": "code",
   "execution_count": 49,
   "metadata": {},
   "outputs": [
    {
     "data": {
      "text/plain": [
       "{'loss': [1.8075790405273438,\n",
       "  1.7882026433944702,\n",
       "  1.7817740440368652,\n",
       "  1.7780519723892212,\n",
       "  1.772033452987671,\n",
       "  1.7656584978103638,\n",
       "  1.758097529411316,\n",
       "  1.748765468597412,\n",
       "  1.7376717329025269,\n",
       "  1.7236913442611694,\n",
       "  1.7080153226852417,\n",
       "  1.688070297241211,\n",
       "  1.6630587577819824,\n",
       "  1.6349111795425415,\n",
       "  1.6030353307724,\n",
       "  1.5679597854614258,\n",
       "  1.5274295806884766,\n",
       "  1.4823168516159058,\n",
       "  1.4371471405029297,\n",
       "  1.395553708076477,\n",
       "  1.3519145250320435,\n",
       "  1.3121066093444824,\n",
       "  1.2730838060379028,\n",
       "  1.2360589504241943,\n",
       "  1.1998571157455444,\n",
       "  1.1661372184753418,\n",
       "  1.1327632665634155,\n",
       "  1.101127028465271,\n",
       "  1.071974277496338,\n",
       "  1.0462676286697388,\n",
       "  1.0231173038482666,\n",
       "  1.0005656480789185,\n",
       "  0.9782716035842896,\n",
       "  0.9567858576774597,\n",
       "  0.9378240704536438,\n",
       "  0.9197733402252197,\n",
       "  0.9032884836196899,\n",
       "  0.8874343633651733,\n",
       "  0.8702983260154724,\n",
       "  0.853188693523407,\n",
       "  0.8379269242286682,\n",
       "  0.8238814473152161,\n",
       "  0.81071537733078,\n",
       "  0.7977597117424011,\n",
       "  0.7857633233070374,\n",
       "  0.7743756175041199,\n",
       "  0.7632386088371277,\n",
       "  0.7523550391197205,\n",
       "  0.7420077323913574,\n",
       "  0.7320679426193237,\n",
       "  0.7223836183547974,\n",
       "  0.7132188081741333,\n",
       "  0.7043867111206055,\n",
       "  0.695762574672699,\n",
       "  0.687128484249115,\n",
       "  0.6788132190704346,\n",
       "  0.6711236238479614,\n",
       "  0.6632189750671387,\n",
       "  0.6557109355926514,\n",
       "  0.6483930349349976,\n",
       "  0.6411527991294861,\n",
       "  0.634030282497406,\n",
       "  0.6267476677894592,\n",
       "  0.6198060512542725,\n",
       "  0.6130194067955017,\n",
       "  0.6060978770256042,\n",
       "  0.5997067093849182,\n",
       "  0.5931938290596008,\n",
       "  0.5868040919303894,\n",
       "  0.5805523991584778,\n",
       "  0.5744181871414185,\n",
       "  0.5684788227081299,\n",
       "  0.5625161528587341,\n",
       "  0.5565876364707947,\n",
       "  0.5504935383796692,\n",
       "  0.5444238781929016,\n",
       "  0.5387977361679077,\n",
       "  0.5332040786743164,\n",
       "  0.5277745723724365,\n",
       "  0.5224655270576477,\n",
       "  0.5174760818481445,\n",
       "  0.5123897790908813,\n",
       "  0.5073627829551697,\n",
       "  0.5024037957191467,\n",
       "  0.49744218587875366,\n",
       "  0.49275705218315125,\n",
       "  0.4880911409854889,\n",
       "  0.48338747024536133,\n",
       "  0.47887974977493286,\n",
       "  0.47415804862976074,\n",
       "  0.46959438920021057,\n",
       "  0.4651419222354889,\n",
       "  0.4608500599861145,\n",
       "  0.45666682720184326,\n",
       "  0.45238083600997925,\n",
       "  0.4482179284095764,\n",
       "  0.44415798783302307,\n",
       "  0.4401155412197113,\n",
       "  0.4361480474472046,\n",
       "  0.4321623742580414],\n",
       " 'accuracy': [0.16296295821666718,\n",
       "  0.18796296417713165,\n",
       "  0.25555557012557983,\n",
       "  0.28148147463798523,\n",
       "  0.33981481194496155,\n",
       "  0.3296296298503876,\n",
       "  0.3787037134170532,\n",
       "  0.3787037134170532,\n",
       "  0.38333332538604736,\n",
       "  0.39537036418914795,\n",
       "  0.39259257912635803,\n",
       "  0.4027777910232544,\n",
       "  0.4287036955356598,\n",
       "  0.4444444477558136,\n",
       "  0.4574074149131775,\n",
       "  0.44999998807907104,\n",
       "  0.4703703820705414,\n",
       "  0.5037037134170532,\n",
       "  0.5148147940635681,\n",
       "  0.5129629373550415,\n",
       "  0.5277777910232544,\n",
       "  0.5518518686294556,\n",
       "  0.5694444179534912,\n",
       "  0.5768518447875977,\n",
       "  0.5981481671333313,\n",
       "  0.604629635810852,\n",
       "  0.6138888597488403,\n",
       "  0.625,\n",
       "  0.6379629373550415,\n",
       "  0.6416666507720947,\n",
       "  0.6499999761581421,\n",
       "  0.6601851582527161,\n",
       "  0.6666666865348816,\n",
       "  0.675000011920929,\n",
       "  0.6805555820465088,\n",
       "  0.6814814805984497,\n",
       "  0.6870370507240295,\n",
       "  0.6953703761100769,\n",
       "  0.7027778029441833,\n",
       "  0.7111111283302307,\n",
       "  0.7157407402992249,\n",
       "  0.7212963104248047,\n",
       "  0.7250000238418579,\n",
       "  0.729629635810852,\n",
       "  0.7314814925193787,\n",
       "  0.7379629611968994,\n",
       "  0.739814817905426,\n",
       "  0.7416666746139526,\n",
       "  0.7462962865829468,\n",
       "  0.7537037134170532,\n",
       "  0.7592592835426331,\n",
       "  0.7675926089286804,\n",
       "  0.7749999761581421,\n",
       "  0.7777777910232544,\n",
       "  0.7805555462837219,\n",
       "  0.7833333611488342,\n",
       "  0.7879629731178284,\n",
       "  0.789814829826355,\n",
       "  0.7935185432434082,\n",
       "  0.7944444417953491,\n",
       "  0.7972221970558167,\n",
       "  0.7981481552124023,\n",
       "  0.7990740537643433,\n",
       "  0.7990740537643433,\n",
       "  0.8027777671813965,\n",
       "  0.8046296238899231,\n",
       "  0.8046296238899231,\n",
       "  0.8074073791503906,\n",
       "  0.8111110925674438,\n",
       "  0.8129629492759705,\n",
       "  0.8166666626930237,\n",
       "  0.8212962746620178,\n",
       "  0.8240740895271301,\n",
       "  0.8240740895271301,\n",
       "  0.8231481313705444,\n",
       "  0.8277778029441833,\n",
       "  0.8277778029441833,\n",
       "  0.8305555582046509,\n",
       "  0.8333333134651184,\n",
       "  0.8370370268821716,\n",
       "  0.8370370268821716,\n",
       "  0.8388888835906982,\n",
       "  0.8407407402992249,\n",
       "  0.8407407402992249,\n",
       "  0.8444444537162781,\n",
       "  0.8472222089767456,\n",
       "  0.8490740656852722,\n",
       "  0.8518518805503845,\n",
       "  0.8518518805503845,\n",
       "  0.8527777791023254,\n",
       "  0.8518518805503845,\n",
       "  0.8537036776542664,\n",
       "  0.8564814925193787,\n",
       "  0.8574073910713196,\n",
       "  0.8592592477798462,\n",
       "  0.8601852059364319,\n",
       "  0.8629629611968994,\n",
       "  0.864814817905426,\n",
       "  0.8675925731658936,\n",
       "  0.8694444298744202],\n",
       " 'val_loss': [1.7859916687011719,\n",
       "  1.7802520990371704,\n",
       "  1.7747361660003662,\n",
       "  1.7701194286346436,\n",
       "  1.7645152807235718,\n",
       "  1.759052038192749,\n",
       "  1.7522971630096436,\n",
       "  1.7440701723098755,\n",
       "  1.732978105545044,\n",
       "  1.7214882373809814,\n",
       "  1.704954981803894,\n",
       "  1.6872817277908325,\n",
       "  1.6683354377746582,\n",
       "  1.6482088565826416,\n",
       "  1.62665855884552,\n",
       "  1.596423625946045,\n",
       "  1.552081823348999,\n",
       "  1.5050350427627563,\n",
       "  1.4685996770858765,\n",
       "  1.4253846406936646,\n",
       "  1.3847546577453613,\n",
       "  1.341711401939392,\n",
       "  1.2980221509933472,\n",
       "  1.25778329372406,\n",
       "  1.2199374437332153,\n",
       "  1.1855064630508423,\n",
       "  1.1520987749099731,\n",
       "  1.1184476613998413,\n",
       "  1.0918011665344238,\n",
       "  1.0706599950790405,\n",
       "  1.046677589416504,\n",
       "  1.0184074640274048,\n",
       "  0.9946678280830383,\n",
       "  0.9790313839912415,\n",
       "  0.9612919092178345,\n",
       "  0.9482374787330627,\n",
       "  0.9400691986083984,\n",
       "  0.9154075384140015,\n",
       "  0.8919135332107544,\n",
       "  0.8774915337562561,\n",
       "  0.8659518957138062,\n",
       "  0.8527951836585999,\n",
       "  0.8419386744499207,\n",
       "  0.8308961391448975,\n",
       "  0.8219243884086609,\n",
       "  0.8118934631347656,\n",
       "  0.8024488091468811,\n",
       "  0.7942885160446167,\n",
       "  0.7866824865341187,\n",
       "  0.7785942554473877,\n",
       "  0.7709358334541321,\n",
       "  0.7637865543365479,\n",
       "  0.7564454674720764,\n",
       "  0.7490082383155823,\n",
       "  0.742078423500061,\n",
       "  0.7363507151603699,\n",
       "  0.7294485569000244,\n",
       "  0.7229124307632446,\n",
       "  0.7163498401641846,\n",
       "  0.7103844285011292,\n",
       "  0.7042796015739441,\n",
       "  0.6984017491340637,\n",
       "  0.6920766234397888,\n",
       "  0.6865670680999756,\n",
       "  0.6804038882255554,\n",
       "  0.6742067933082581,\n",
       "  0.6689679026603699,\n",
       "  0.6638228297233582,\n",
       "  0.6578361988067627,\n",
       "  0.6529258489608765,\n",
       "  0.6478925347328186,\n",
       "  0.6432469487190247,\n",
       "  0.6390950679779053,\n",
       "  0.6342982053756714,\n",
       "  0.6292111277580261,\n",
       "  0.6252862215042114,\n",
       "  0.6202157735824585,\n",
       "  0.6160251498222351,\n",
       "  0.6122817993164062,\n",
       "  0.6079729795455933,\n",
       "  0.6031240224838257,\n",
       "  0.5991630554199219,\n",
       "  0.5949152708053589,\n",
       "  0.5908275842666626,\n",
       "  0.587148904800415,\n",
       "  0.5840384364128113,\n",
       "  0.5804439187049866,\n",
       "  0.5767577886581421,\n",
       "  0.5728538632392883,\n",
       "  0.5686682462692261,\n",
       "  0.5650371313095093,\n",
       "  0.5612771511077881,\n",
       "  0.5580560564994812,\n",
       "  0.5545055270195007,\n",
       "  0.5504234433174133,\n",
       "  0.5469455122947693,\n",
       "  0.5437837243080139,\n",
       "  0.5401318669319153,\n",
       "  0.5370489954948425,\n",
       "  0.5335337519645691],\n",
       " 'val_accuracy': [0.1666666716337204,\n",
       "  0.24166665971279144,\n",
       "  0.30000001192092896,\n",
       "  0.4833333194255829,\n",
       "  0.44999998807907104,\n",
       "  0.49166667461395264,\n",
       "  0.4833333194255829,\n",
       "  0.44999998807907104,\n",
       "  0.42500001192092896,\n",
       "  0.36666667461395264,\n",
       "  0.4000000059604645,\n",
       "  0.4166666567325592,\n",
       "  0.38333332538604736,\n",
       "  0.3499999940395355,\n",
       "  0.32499998807907104,\n",
       "  0.3583333194255829,\n",
       "  0.46666666865348816,\n",
       "  0.4749999940395355,\n",
       "  0.4749999940395355,\n",
       "  0.4833333194255829,\n",
       "  0.4749999940395355,\n",
       "  0.49166667461395264,\n",
       "  0.5249999761581421,\n",
       "  0.5249999761581421,\n",
       "  0.5333333611488342,\n",
       "  0.5416666865348816,\n",
       "  0.5416666865348816,\n",
       "  0.550000011920929,\n",
       "  0.574999988079071,\n",
       "  0.5833333134651184,\n",
       "  0.5833333134651184,\n",
       "  0.5916666388511658,\n",
       "  0.6000000238418579,\n",
       "  0.6166666746139526,\n",
       "  0.6416666507720947,\n",
       "  0.6583333611488342,\n",
       "  0.675000011920929,\n",
       "  0.6583333611488342,\n",
       "  0.6583333611488342,\n",
       "  0.675000011920929,\n",
       "  0.6666666865348816,\n",
       "  0.6916666626930237,\n",
       "  0.6916666626930237,\n",
       "  0.6833333373069763,\n",
       "  0.6916666626930237,\n",
       "  0.6916666626930237,\n",
       "  0.6916666626930237,\n",
       "  0.6916666626930237,\n",
       "  0.6916666626930237,\n",
       "  0.6916666626930237,\n",
       "  0.6833333373069763,\n",
       "  0.6833333373069763,\n",
       "  0.6916666626930237,\n",
       "  0.6916666626930237,\n",
       "  0.6916666626930237,\n",
       "  0.6833333373069763,\n",
       "  0.699999988079071,\n",
       "  0.699999988079071,\n",
       "  0.699999988079071,\n",
       "  0.699999988079071,\n",
       "  0.699999988079071,\n",
       "  0.699999988079071,\n",
       "  0.699999988079071,\n",
       "  0.699999988079071,\n",
       "  0.7166666388511658,\n",
       "  0.7166666388511658,\n",
       "  0.7166666388511658,\n",
       "  0.7250000238418579,\n",
       "  0.7250000238418579,\n",
       "  0.7333333492279053,\n",
       "  0.7333333492279053,\n",
       "  0.7333333492279053,\n",
       "  0.7333333492279053,\n",
       "  0.7333333492279053,\n",
       "  0.7333333492279053,\n",
       "  0.7333333492279053,\n",
       "  0.7416666746139526,\n",
       "  0.75,\n",
       "  0.7583333253860474,\n",
       "  0.7583333253860474,\n",
       "  0.7583333253860474,\n",
       "  0.7583333253860474,\n",
       "  0.7583333253860474,\n",
       "  0.7666666507720947,\n",
       "  0.7666666507720947,\n",
       "  0.7666666507720947,\n",
       "  0.7666666507720947,\n",
       "  0.7666666507720947,\n",
       "  0.7749999761581421,\n",
       "  0.7749999761581421,\n",
       "  0.7749999761581421,\n",
       "  0.7833333611488342,\n",
       "  0.7749999761581421,\n",
       "  0.7749999761581421,\n",
       "  0.7749999761581421,\n",
       "  0.7833333611488342,\n",
       "  0.7749999761581421,\n",
       "  0.7833333611488342,\n",
       "  0.7833333611488342,\n",
       "  0.7833333611488342]}"
      ]
     },
     "execution_count": 49,
     "metadata": {},
     "output_type": "execute_result"
    }
   ],
   "source": [
    "history.history"
   ]
  },
  {
   "cell_type": "markdown",
   "metadata": {},
   "source": [
    "Now visualize the loss over time using `history.history`: "
   ]
  },
  {
   "cell_type": "code",
   "execution_count": 50,
   "metadata": {},
   "outputs": [
    {
     "data": {
      "text/plain": [
       "[Text(0, 0.5, 'Accuracy'), Text(0.5, 0, 'Epoch')]"
      ]
     },
     "execution_count": 50,
     "metadata": {},
     "output_type": "execute_result"
    },
    {
     "data": {
      "image/png": "[encoded data removed]",
      "text/plain": [
       "<Figure size 864x576 with 1 Axes>"
      ]
     },
     "metadata": {
      "needs_background": "light"
     },
     "output_type": "display_data"
    },
    {
     "data": {
      "image/png": "[encoded data removed]",
      "text/plain": [
       "<Figure size 864x576 with 1 Axes>"
      ]
     },
     "metadata": {
      "needs_background": "light"
     },
     "output_type": "display_data"
    }
   ],
   "source": [
    "# The history.history[\"loss\"] entry is a dictionary with as many values as epochs that the\n",
    "# model was trained on. \n",
    "df_loss_acc = pd.DataFrame(history.history)\n",
    "df_loss= df_loss_acc[['loss','val_loss']]\n",
    "df_loss.rename(columns={'loss':'train','val_loss':'validation'},inplace=True)\n",
    "df_acc= df_loss_acc[['accuracy','val_accuracy']]\n",
    "df_acc.rename(columns={'accuracy':'train','val_accuracy':'validation'},inplace=True)\n",
    "df_loss.plot(title='Model loss',figsize=(12,8)).set(xlabel='Epoch',ylabel='Loss')\n",
    "df_acc.plot(title='Model Accuracy',figsize=(12,8)).set(xlabel='Epoch',ylabel='Accuracy')"
   ]
  },
  {
   "cell_type": "markdown",
   "metadata": {},
   "source": [
    "**Congratulations**! You've finished the assignment and built two models: One that recognizes  smiles, and another that recognizes SIGN language with almost 80% accuracy on the test set. In addition to that, you now also understand the applications of two Keras APIs: Sequential and Functional. Nicely done! \n",
    "\n",
    "By now, you know a bit about how the Functional API works and may have glimpsed the possibilities. In your next assignment, you'll really get a feel for its power when you get the opportunity to build a very deep ConvNet, using ResNets! "
   ]
  },
  {
   "cell_type": "markdown",
   "metadata": {},
   "source": [
    "<a name='6'></a>\n",
    "## 6 - Bibliography\n",
    "\n",
    "You're always encouraged to read the official documentation. To that end, you can find the docs for the Sequential and Functional APIs here: \n",
    "\n",
    "https://www.tensorflow.org/guide/keras/sequential_model\n",
    "\n",
    "https://www.tensorflow.org/guide/keras/functional"
   ]
  }
 ],
 "metadata": {
  "coursera": {
   "course_slug": "convolutional-neural-networks",
   "graded_item_id": "bwbJV",
   "launcher_item_id": "0TkXB"
  },
  "kernelspec": {
   "display_name": "Python 3",
   "language": "python",
   "name": "python3"
  },
  "language_info": {
   "codemirror_mode": {
    "name": "ipython",
    "version": 3
   },
   "file_extension": ".py",
   "mimetype": "text/x-python",
   "name": "python",
   "nbconvert_exporter": "python",
   "pygments_lexer": "ipython3",
   "version": "3.7.6"
  }
 },
 "nbformat": 4,
 "nbformat_minor": 2
}
